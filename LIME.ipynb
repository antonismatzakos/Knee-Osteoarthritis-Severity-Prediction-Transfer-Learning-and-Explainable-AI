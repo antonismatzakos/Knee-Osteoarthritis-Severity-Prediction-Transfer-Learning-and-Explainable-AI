{
 "cells": [
  {
   "cell_type": "code",
   "execution_count": 1,
   "id": "f08a4c18",
   "metadata": {},
   "outputs": [
    {
     "name": "stdout",
     "output_type": "stream",
     "text": [
      "4\n"
     ]
    },
    {
     "data": {
      "text/plain": [
       "<matplotlib.image.AxesImage at 0x25c6cc64388>"
      ]
     },
     "execution_count": 1,
     "metadata": {},
     "output_type": "execute_result"
    },
    {
     "data": {
      "image/png": "[encoded data removed]",
      "text/plain": [
       "<Figure size 432x288 with 1 Axes>"
      ]
     },
     "metadata": {
      "needs_background": "light"
     },
     "output_type": "display_data"
    }
   ],
   "source": [
    "import keras\n",
    "from keras.applications.imagenet_utils import decode_predictions\n",
    "import skimage.io \n",
    "import skimage.segmentation\n",
    "import copy\n",
    "import sklearn\n",
    "import sklearn.metrics\n",
    "from sklearn.linear_model import LinearRegression\n",
    "import warnings\n",
    "import numpy as np\n",
    "import skimage\n",
    "from skimage import io\n",
    "from skimage import transform\n",
    "\n",
    "# Read Image\n",
    "#model = keras.models.load_model('C:/Users/anton/Desktop/Osteoarthritis Kaggle/Best_resnet152V23.h5')\n",
    "model = keras.models.load_model('C:/Users/anton/Desktop/Osteoarthritis Kaggle/Best_dense4.h5')\n",
    "#model = keras.models.load_model('C:/Users/anton/Desktop/Osteoarthritis Kaggle/Best_inceptionv35.h5')\n",
    "#model = keras.models.load_model('C:/Users/anton/Desktop/Osteoarthritis Kaggle/Best_xception69712.h5')\n",
    "\n",
    "img = skimage.io.imread(\"kl4.png\")\n",
    "img = skimage.transform.resize(img, (224,224,3))\n",
    "#img = (img - 0.5)*2 #Xception pre-processing\n",
    "#skimage.io.imshow(img)\n",
    "img2 = img\n",
    "#print(img.shape)\n",
    "\n",
    "#Predict class of the image\n",
    "np.random.seed(222)\n",
    "img = img*255\n",
    "preds = model.predict(img[np.newaxis,:,:,:])\n",
    "#decode_predictions(preds)[0]\n",
    "#print(preds)\n",
    "top_pred_classes = preds[0].argsort()[-1:][::-1]\n",
    "#print(top_pred_classes) #Predicted Class\n",
    "\n",
    "#Generate segmentation for image\n",
    "import skimage.segmentation\n",
    "superpixels = skimage.segmentation.quickshift(img, kernel_size=5, max_dist=200, ratio=0.01)\n",
    "num_superpixels = np.unique(superpixels).shape[0]\n",
    "#skimage.io.imshow(skimage.segmentation.mark_boundaries(img/2+0.5, superpixels))\n",
    "\n",
    "#Generate perturbations\n",
    "num_perturb = 150\n",
    "perturbations = np.random.binomial(1, 0.5, size=(num_perturb, num_superpixels))\n",
    "\n",
    "#Create function to apply perturbations to images\n",
    "import copy\n",
    "def perturb_image(img,perturbation,segments): \n",
    "    active_pixels = np.where(perturbation == 1)[0]\n",
    "    mask = np.zeros(segments.shape)\n",
    "    for active in active_pixels:\n",
    "        mask[segments == active] = 1 \n",
    "    perturbed_image = copy.deepcopy(img)\n",
    "    perturbed_image = perturbed_image*mask[:,:,np.newaxis]\n",
    "    return perturbed_image\n",
    "\n",
    "predictions = []\n",
    "for pert in perturbations:\n",
    "    perturbed_img = perturb_image(img,pert,superpixels)\n",
    "    pred = model.predict(perturbed_img[np.newaxis,:,:,:])\n",
    "    predictions.append(pred)\n",
    "\n",
    "predictions = np.array(predictions)\n",
    "#print(predictions.shape)\n",
    "\n",
    "#Compute distances to original image\n",
    "original_image = np.ones(num_superpixels)[np.newaxis,:] #Perturbation with all superpixels enabled \n",
    "distances = sklearn.metrics.pairwise_distances(perturbations,original_image, metric='cosine').ravel()\n",
    "#print(distances.shape)\n",
    "#Transform distances to a value between 0 an 1 (weights) using a kernel function\n",
    "kernel_width = 0.25\n",
    "weights = np.sqrt(np.exp(-(distances**2)/kernel_width**2)) #Kernel function\n",
    "#print(weights.shape)\n",
    "\n",
    "#Estimate linear model\n",
    "from sklearn.linear_model import LinearRegression\n",
    "class_to_explain = top_pred_classes[0] \n",
    "print(class_to_explain)\n",
    "simpler_model = LinearRegression()\n",
    "simpler_model.fit(X=perturbations, y=predictions[:,:,class_to_explain], sample_weight=weights)\n",
    "coeff = simpler_model.coef_[0]\n",
    "\n",
    "#Use coefficients from linear model to extract top features\n",
    "num_top_features = 3\n",
    "top_features = np.argsort(coeff)[-num_top_features:] \n",
    "\n",
    "#Show only the superpixels corresponding to the top features\n",
    "mask = np.zeros(num_superpixels) \n",
    "mask[top_features]= True #Activate top superpixels\n",
    "skimage.io.imshow(perturb_image((img/1.5+0.5)*(1./255),mask,superpixels))"
   ]
  }
 ],
 "metadata": {
  "kernelspec": {
   "display_name": "Python 3 (ipykernel)",
   "language": "python",
   "name": "python3"
  },
  "language_info": {
   "codemirror_mode": {
    "name": "ipython",
    "version": 3
   },
   "file_extension": ".py",
   "mimetype": "text/x-python",
   "name": "python",
   "nbconvert_exporter": "python",
   "pygments_lexer": "ipython3",
   "version": "3.7.11"
  }
 },
 "nbformat": 4,
 "nbformat_minor": 5
}
